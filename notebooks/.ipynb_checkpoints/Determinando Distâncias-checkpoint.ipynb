{
 "metadata": {
  "name": ""
 },
 "nbformat": 3,
 "nbformat_minor": 0,
 "worksheets": [
  {
   "cells": [
    {
     "cell_type": "markdown",
     "metadata": {},
     "source": [
      "1) pl relation\n",
      "2) obter mag da pl relation\n",
      "3) calcular distancia m-<m>"
     ]
    }
   ],
   "metadata": {}
  }
 ]
}