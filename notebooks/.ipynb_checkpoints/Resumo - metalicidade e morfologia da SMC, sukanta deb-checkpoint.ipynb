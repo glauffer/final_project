{
 "metadata": {
  "name": ""
 },
 "nbformat": 3,
 "nbformat_minor": 0,
 "worksheets": [
  {
   "cells": [
    {
     "cell_type": "code",
     "collapsed": false,
     "input": [
      "%matplotlib inline"
     ],
     "language": "python",
     "metadata": {},
     "outputs": [],
     "prompt_number": 1
    },
    {
     "cell_type": "markdown",
     "metadata": {},
     "source": [
      "#Artigo: Morphology and metallicity of the Small Magellanic Cloud using RRab stars - Sukanta Deb\n",
      "\n",
      "link: http://arxiv.org/pdf/1502.05824v1.pdf"
     ]
    },
    {
     "cell_type": "heading",
     "level": 1,
     "metadata": {},
     "source": [
      "Estrutura da SMC"
     ]
    },
    {
     "cell_type": "markdown",
     "metadata": {},
     "source": [
      "Para determinar a estrutura, o Sukanta converteu a ascens\u00e3o reta ($\\alpha$), declina\u00e7\u00e3o ($\\delta$) e dist\u00e2ncia ($D$) nas coordenadas cartesianas. $(\\alpha , \\delta , D) \\to (x,y,z)$.\n",
      "\n",
      "O sistema cartesiano $(x,y,z)$ \u00e9 centrado no centro da SMC $(\\alpha_0, \\delta_0 , D_0)$. O eixo $z$ aponta na dire\u00e7\u00e3o do observador, o eixo $x$ \u00e9 antiparalelo ao eixo $\\alpha$ e o eixo $y$ \u00e9 paralelo ao eixo $\\delta$.\n",
      "\n",
      "Possuindo os valores do centro da SMC (o sukanta pegou de um artigo), as coordenadas $x, y$ e $z$ s\u00e3o obtidas a partir das seguintes transforma\u00e7\u00f5es:\n",
      "\\begin{equation}\n",
      "x = -D \\sin (\\alpha - \\alpha_0) \\cos(\\delta) \\\\\n",
      "y = D \\sin (\\delta) \\cos (\\delta_0) \u2212 D \\sin (\\delta_0) \\cos (\\alpha - \\alpha_0) \\cos( \\delta) \\\\\n",
      "z = D_0 - D \\sin(\\delta)\\sin(\\delta_0) - D\\cos(\\delta_0)\\cos(\\alpha) - \\alpha_0 \\cos (\\delta)\n",
      "\\end{equation}\n",
      "\n",
      "essas transforma\u00e7\u00f5es foram obtidas do artigo neste link http://arxiv.org/pdf/astro-ph/0105339v2.pdf\n"
     ]
    },
    {
     "cell_type": "code",
     "collapsed": false,
     "input": [],
     "language": "python",
     "metadata": {},
     "outputs": []
    }
   ],
   "metadata": {}
  }
 ]
}